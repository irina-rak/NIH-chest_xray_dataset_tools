{
 "cells": [
  {
   "cell_type": "code",
   "execution_count": 92,
   "metadata": {},
   "outputs": [],
   "source": [
    "from os import makedirs, scandir\n",
    "from os.path import exists, join\n",
    "\n",
    "import numpy as np\n",
    "import pandas as pd\n",
    "\n",
    "from cv2 import cvtColor, COLOR_BGR2RGB, imread, imwrite, resize\n",
    "from rich.progress import track, Progress\n",
    "\n",
    "from utils.utils import (get_dummy_labels, read_csv, get_unique_patients, plot_age_distribution, plot_disease_distribution, random_fl_split, stratified_train_test_split)"
   ]
  },
  {
   "cell_type": "code",
   "execution_count": 137,
   "metadata": {},
   "outputs": [
    {
     "data": {
      "text/html": [
       "<div>\n",
       "<style scoped>\n",
       "    .dataframe tbody tr th:only-of-type {\n",
       "        vertical-align: middle;\n",
       "    }\n",
       "\n",
       "    .dataframe tbody tr th {\n",
       "        vertical-align: top;\n",
       "    }\n",
       "\n",
       "    .dataframe thead th {\n",
       "        text-align: right;\n",
       "    }\n",
       "</style>\n",
       "<table border=\"1\" class=\"dataframe\">\n",
       "  <thead>\n",
       "    <tr style=\"text-align: right;\">\n",
       "      <th></th>\n",
       "      <th>Unnamed: 0.1</th>\n",
       "      <th>Image Index</th>\n",
       "      <th>Finding Labels</th>\n",
       "      <th>Follow-up #</th>\n",
       "      <th>Patient ID</th>\n",
       "      <th>Patient Age</th>\n",
       "      <th>Patient Gender</th>\n",
       "      <th>View Position</th>\n",
       "      <th>OriginalImagePixelSpacing[x</th>\n",
       "      <th>y]</th>\n",
       "      <th>...</th>\n",
       "      <th>Emphysema</th>\n",
       "      <th>Fibrosis</th>\n",
       "      <th>Hernia</th>\n",
       "      <th>Infiltration</th>\n",
       "      <th>Mass</th>\n",
       "      <th>No Finding</th>\n",
       "      <th>Nodule</th>\n",
       "      <th>Pleural_Thickening</th>\n",
       "      <th>Pneumonia</th>\n",
       "      <th>Pneumothorax</th>\n",
       "    </tr>\n",
       "  </thead>\n",
       "  <tbody>\n",
       "    <tr>\n",
       "      <th>0</th>\n",
       "      <td>0</td>\n",
       "      <td>00000005_000.png</td>\n",
       "      <td>No Finding</td>\n",
       "      <td>0</td>\n",
       "      <td>5</td>\n",
       "      <td>69</td>\n",
       "      <td>F</td>\n",
       "      <td>PA</td>\n",
       "      <td>0.168</td>\n",
       "      <td>0.168</td>\n",
       "      <td>...</td>\n",
       "      <td>0</td>\n",
       "      <td>0</td>\n",
       "      <td>0</td>\n",
       "      <td>0</td>\n",
       "      <td>0</td>\n",
       "      <td>1</td>\n",
       "      <td>0</td>\n",
       "      <td>0</td>\n",
       "      <td>0</td>\n",
       "      <td>0</td>\n",
       "    </tr>\n",
       "    <tr>\n",
       "      <th>1</th>\n",
       "      <td>1</td>\n",
       "      <td>00000005_001.png</td>\n",
       "      <td>No Finding</td>\n",
       "      <td>1</td>\n",
       "      <td>5</td>\n",
       "      <td>69</td>\n",
       "      <td>F</td>\n",
       "      <td>AP</td>\n",
       "      <td>0.168</td>\n",
       "      <td>0.168</td>\n",
       "      <td>...</td>\n",
       "      <td>0</td>\n",
       "      <td>0</td>\n",
       "      <td>0</td>\n",
       "      <td>0</td>\n",
       "      <td>0</td>\n",
       "      <td>1</td>\n",
       "      <td>0</td>\n",
       "      <td>0</td>\n",
       "      <td>0</td>\n",
       "      <td>0</td>\n",
       "    </tr>\n",
       "    <tr>\n",
       "      <th>2</th>\n",
       "      <td>2</td>\n",
       "      <td>00000005_002.png</td>\n",
       "      <td>No Finding</td>\n",
       "      <td>2</td>\n",
       "      <td>5</td>\n",
       "      <td>69</td>\n",
       "      <td>F</td>\n",
       "      <td>AP</td>\n",
       "      <td>0.168</td>\n",
       "      <td>0.168</td>\n",
       "      <td>...</td>\n",
       "      <td>0</td>\n",
       "      <td>0</td>\n",
       "      <td>0</td>\n",
       "      <td>0</td>\n",
       "      <td>0</td>\n",
       "      <td>1</td>\n",
       "      <td>0</td>\n",
       "      <td>0</td>\n",
       "      <td>0</td>\n",
       "      <td>0</td>\n",
       "    </tr>\n",
       "    <tr>\n",
       "      <th>3</th>\n",
       "      <td>3</td>\n",
       "      <td>00000005_003.png</td>\n",
       "      <td>No Finding</td>\n",
       "      <td>3</td>\n",
       "      <td>5</td>\n",
       "      <td>69</td>\n",
       "      <td>F</td>\n",
       "      <td>PA</td>\n",
       "      <td>0.143</td>\n",
       "      <td>0.143</td>\n",
       "      <td>...</td>\n",
       "      <td>0</td>\n",
       "      <td>0</td>\n",
       "      <td>0</td>\n",
       "      <td>0</td>\n",
       "      <td>0</td>\n",
       "      <td>1</td>\n",
       "      <td>0</td>\n",
       "      <td>0</td>\n",
       "      <td>0</td>\n",
       "      <td>0</td>\n",
       "    </tr>\n",
       "    <tr>\n",
       "      <th>4</th>\n",
       "      <td>4</td>\n",
       "      <td>00000005_004.png</td>\n",
       "      <td>No Finding</td>\n",
       "      <td>4</td>\n",
       "      <td>5</td>\n",
       "      <td>70</td>\n",
       "      <td>F</td>\n",
       "      <td>PA</td>\n",
       "      <td>0.143</td>\n",
       "      <td>0.143</td>\n",
       "      <td>...</td>\n",
       "      <td>0</td>\n",
       "      <td>0</td>\n",
       "      <td>0</td>\n",
       "      <td>0</td>\n",
       "      <td>0</td>\n",
       "      <td>1</td>\n",
       "      <td>0</td>\n",
       "      <td>0</td>\n",
       "      <td>0</td>\n",
       "      <td>0</td>\n",
       "    </tr>\n",
       "  </tbody>\n",
       "</table>\n",
       "<p>5 rows × 26 columns</p>\n",
       "</div>"
      ],
      "text/plain": [
       "   Unnamed: 0.1       Image Index Finding Labels  Follow-up #  Patient ID  \\\n",
       "0             0  00000005_000.png     No Finding            0           5   \n",
       "1             1  00000005_001.png     No Finding            1           5   \n",
       "2             2  00000005_002.png     No Finding            2           5   \n",
       "3             3  00000005_003.png     No Finding            3           5   \n",
       "4             4  00000005_004.png     No Finding            4           5   \n",
       "\n",
       "   Patient Age Patient Gender View Position  OriginalImagePixelSpacing[x  \\\n",
       "0           69              F            PA                        0.168   \n",
       "1           69              F            AP                        0.168   \n",
       "2           69              F            AP                        0.168   \n",
       "3           69              F            PA                        0.143   \n",
       "4           70              F            PA                        0.143   \n",
       "\n",
       "      y]  ... Emphysema  Fibrosis  Hernia  Infiltration  Mass  No Finding  \\\n",
       "0  0.168  ...         0         0       0             0     0           1   \n",
       "1  0.168  ...         0         0       0             0     0           1   \n",
       "2  0.168  ...         0         0       0             0     0           1   \n",
       "3  0.143  ...         0         0       0             0     0           1   \n",
       "4  0.143  ...         0         0       0             0     0           1   \n",
       "\n",
       "   Nodule  Pleural_Thickening  Pneumonia  Pneumothorax  \n",
       "0       0                   0          0             0  \n",
       "1       0                   0          0             0  \n",
       "2       0                   0          0             0  \n",
       "3       0                   0          0             0  \n",
       "4       0                   0          0             0  \n",
       "\n",
       "[5 rows x 26 columns]"
      ]
     },
     "execution_count": 137,
     "metadata": {},
     "output_type": "execute_result"
    }
   ],
   "source": [
    "# f_path = \"../dataset/Data_entry_2017_filtered_single_label.csv\"\n",
    "f_path = \"../dataset/splits/fl_splits/balanced/2_clients/data_entry_2017_val_0.csv\"\n",
    "\n",
    "data_df = read_csv(f_path)\n",
    "\n",
    "data_df.drop(columns=[\"Unnamed: 0\"], inplace=True)\n",
    "data_df.head()"
   ]
  },
  {
   "cell_type": "code",
   "execution_count": 138,
   "metadata": {},
   "outputs": [],
   "source": [
    "# ds_path = \"../dataset/resized/\"\n",
    "# # Get Path with nan values\n",
    "# nan_path = data_df[data_df[\"Path\"].isnull()][\"Image Index\"].values\n",
    "# len(nan_path)\n",
    "\n",
    "# dirs = {}\n",
    "# for _dirs in scandir(ds_path):\n",
    "#     if _dirs.is_dir():\n",
    "#         # print(_dirs.path)\n",
    "#         _d = join(_dirs.path, \"images\")\n",
    "#         if exists(_d):\n",
    "#             dirs[_d] = [_f.name for _f in scandir(_d) if _f.is_file() and _f.name.endswith(\".png\")]"
   ]
  },
  {
   "cell_type": "code",
   "execution_count": 139,
   "metadata": {},
   "outputs": [],
   "source": [
    "# columns = data_df.columns\n",
    "# to_drop = [\"Unnamed: 0\", \"OriginalImage[Width\", \"Height]\", \"OriginalImagePixelSpacing[x\", \"y]\", \"Unnamed: 11\"]\n",
    "# data_df.drop(columns=to_drop, inplace=True, errors=\"ignore\")"
   ]
  },
  {
   "cell_type": "code",
   "execution_count": 140,
   "metadata": {},
   "outputs": [],
   "source": [
    "# new_df = pd.DataFrame(columns=columns)\n",
    "\n",
    "# for _dirs in dirs:\n",
    "#     _df = data_df[data_df[\"Image Index\"].isin(dirs[_dirs])]\n",
    "#     new_df = pd.concat([new_df, _df], ignore_index=True)\n",
    "#     new_df[\"Path\"] = new_df[\"Path\"].str.replace(\"extracted\", \"resized\")\n",
    "\n",
    "# # Drop columns in new_df\n",
    "# # new_df = new_df.drop(columns=[\"Unnamed: 0\", \"OriginalImage[Width\", \"Height]\",\n",
    "# #                               \"OriginalImagePixelSpacing[x\", \"y]\",\n",
    "# #                               \"Unnamed: 11\"])\n",
    "# new_df = new_df.drop(columns=to_drop, errors=\"ignore\")"
   ]
  },
  {
   "cell_type": "code",
   "execution_count": 141,
   "metadata": {},
   "outputs": [],
   "source": [
    "# new_df = get_dummy_labels(new_df)"
   ]
  },
  {
   "cell_type": "code",
   "execution_count": 142,
   "metadata": {},
   "outputs": [],
   "source": [
    "# new_df"
   ]
  },
  {
   "cell_type": "code",
   "execution_count": null,
   "metadata": {},
   "outputs": [],
   "source": []
  },
  {
   "cell_type": "code",
   "execution_count": 143,
   "metadata": {},
   "outputs": [],
   "source": [
    "# # Concatenate Path with Image Index\n",
    "# _paths = data_df[\"Path\"].str.cat(data_df[\"Image Index\"], sep=\"/\")\n",
    "# # Replace resized with extracted\n",
    "# _paths = _paths.str.replace(\"resized\", \"extracted\")"
   ]
  },
  {
   "cell_type": "code",
   "execution_count": 144,
   "metadata": {},
   "outputs": [],
   "source": [
    "# _paths"
   ]
  },
  {
   "cell_type": "code",
   "execution_count": 146,
   "metadata": {},
   "outputs": [],
   "source": [
    "# def get_images_to_process(data_df: pd.DataFrame, path:str) -> list:\n",
    "#     \"\"\"Get images to process from the dataset.\n",
    "#     If the image is not found in the indicated path, it will be added to the list of images to process.\n",
    "\n",
    "#     Args:\n",
    "#         data_df (pd.DataFrame): Dataframe containing the data.\n",
    "#         path (str): Path to the images.\n",
    "\n",
    "#     Returns:\n",
    "#         list: List of images to process.\n",
    "#     \"\"\"\n",
    "#     # If path does not exist, create it\n",
    "#     if not exists(path):\n",
    "#         makedirs(path)\n",
    "#         return data_df[\"Path\"].str.contains(path).cat(data_df[\"Image Index\"], sep=\"/\").tolist()\n",
    "#     return [f for f in data_df[\"Path\"].str.cat(data_df[\"Image Index\"], sep=\"/\").tolist() if not exists(join(path, f))]\n",
    "\n",
    "def get_images_to_process(data_df: pd.DataFrame, path: str, to_replace: list = [\"\", \"\"]) -> list:\n",
    "    \"\"\"\n",
    "    Get images to process from the dataset.\n",
    "    If the image is not found in the indicated path, it will be added to the list of images to process.\n",
    "\n",
    "    Args:\n",
    "        data_df (pd.DataFrame): Dataframe containing the data.\n",
    "        path (str): Path to the images.\n",
    "\n",
    "    Returns:\n",
    "        list: List of images to process.\n",
    "    \"\"\"\n",
    "    # Ensure the directory exists\n",
    "    save_dir = path.replace(to_replace[0], to_replace[1])\n",
    "    if not exists(save_dir):\n",
    "        makedirs(save_dir)\n",
    "        return data_df[data_df[\"Path\"].str.contains(path)][\"Image Index\"].tolist()\n",
    "    \n",
    "    images = [f.name for f in scandir(save_dir) if f.is_file() and f.name.endswith(\".png\")]\n",
    "    # return [f for f in data_df[\"Path\"].str.cat(data_df[\"Image Index\"], sep=\"/\").tolist() if f not in images]\n",
    "    return [f for f in data_df[data_df[\"Path\"].str.contains(path)][\"Image Index\"].tolist() if f not in images]"
   ]
  },
  {
   "cell_type": "code",
   "execution_count": 147,
   "metadata": {},
   "outputs": [
    {
     "data": {
      "application/vnd.jupyter.widget-view+json": {
       "model_id": "b479a879350f46f9b2dfb959c9274177",
       "version_major": 2,
       "version_minor": 0
      },
      "text/plain": [
       "Output()"
      ]
     },
     "metadata": {},
     "output_type": "display_data"
    },
    {
     "data": {
      "text/html": [
       "<pre style=\"white-space:pre;overflow-x:auto;line-height:normal;font-family:Menlo,'DejaVu Sans Mono',consolas,'Courier New',monospace\"></pre>\n"
      ],
      "text/plain": []
     },
     "metadata": {},
     "output_type": "display_data"
    },
    {
     "data": {
      "text/html": [
       "<pre style=\"white-space:pre;overflow-x:auto;line-height:normal;font-family:Menlo,'DejaVu Sans Mono',consolas,'Courier New',monospace\">\n",
       "</pre>\n"
      ],
      "text/plain": [
       "\n"
      ]
     },
     "metadata": {},
     "output_type": "display_data"
    },
    {
     "name": "stdout",
     "output_type": "stream",
     "text": [
      "Total images to process: 0\n"
     ]
    }
   ],
   "source": [
    "df_paths = data_df[\"Path\"].unique()\n",
    "\n",
    "to_process = {\n",
    "    _path: [\n",
    "        _f for _f in get_images_to_process(data_df, _path, to_replace=[\"extracted\", \"resized\"])\n",
    "    ]\n",
    "    for _path in track(df_paths, description=\"Processing Paths\")\n",
    "}\n",
    "\n",
    "total = sum([len(to_process[_path]) for _path in to_process])\n",
    "print(f\"Total images to process: {total}\")"
   ]
  },
  {
   "cell_type": "code",
   "execution_count": 103,
   "metadata": {},
   "outputs": [
    {
     "data": {
      "application/vnd.jupyter.widget-view+json": {
       "model_id": "6a5e2cf4c0784b9083918623ee734694",
       "version_major": 2,
       "version_minor": 0
      },
      "text/plain": [
       "Output()"
      ]
     },
     "metadata": {},
     "output_type": "display_data"
    },
    {
     "data": {
      "text/html": [
       "<pre style=\"white-space:pre;overflow-x:auto;line-height:normal;font-family:Menlo,'DejaVu Sans Mono',consolas,'Courier New',monospace\"></pre>\n"
      ],
      "text/plain": []
     },
     "metadata": {},
     "output_type": "display_data"
    },
    {
     "data": {
      "text/html": [
       "<pre style=\"white-space:pre;overflow-x:auto;line-height:normal;font-family:Menlo,'DejaVu Sans Mono',consolas,'Courier New',monospace\">\n",
       "</pre>\n"
      ],
      "text/plain": [
       "\n"
      ]
     },
     "metadata": {},
     "output_type": "display_data"
    }
   ],
   "source": [
    "def resize_images(to_process: dict, to_replace: list = [\"\", \"\"], size: tuple = (224, 224)) -> None:\n",
    "    \"\"\"Resize images to a fixed size.\n",
    "\n",
    "    Args:\n",
    "        to_process (dict): Dictionary containing the paths and images to process.\n",
    "        to_replace (list, optional): List of strings to replace in the path. Defaults to [\"\", \"\"].\n",
    "        size (tuple, optional): Size to resize the images. Defaults to (224, 224).\n",
    "    \"\"\"\n",
    "    with Progress() as progress:\n",
    "        dir_task = progress.add_task(\"Creating Directories\", total=len(to_process))\n",
    "        for _path in to_process:\n",
    "            f_task = progress.add_task(f\"Processing {_path}\", total=len(to_process[_path]))\n",
    "            save_dir = _path.replace(to_replace[0], to_replace[1])\n",
    "            for _f in to_process[_path]:\n",
    "                img = imread(join(_path, _f))\n",
    "                img = cvtColor(img, COLOR_BGR2RGB)\n",
    "                img = resize(img, size)\n",
    "                imwrite(join(save_dir, _f), img)\n",
    "                progress.update(f_task, advance=1)\n",
    "            progress.remove_task(f_task)\n",
    "            progress.update(dir_task, advance=1)\n",
    "\n",
    "resize_images(to_process, to_replace=[\"extracted\", \"resized\"], size=(224, 224))"
   ]
  },
  {
   "cell_type": "code",
   "execution_count": null,
   "metadata": {},
   "outputs": [],
   "source": [
    "# # save_dir = \"../dataset/resized/\"\n",
    "\n",
    "# # Resize all images to 224*224\n",
    "# # for path in paths:\n",
    "# for path in track(paths):\n",
    "#     # save_path = path.replace(\"dataset/extracted\", \"dataset/resized\")\n",
    "#     p = path.replace(\"dataset/extracted\", \"dataset/resized\").split(\"/\")\n",
    "#     img_name = p[-1]\n",
    "#     save_path = \"/\".join(p[:-1])\n",
    "#     if not exists(save_path):\n",
    "#         makedirs(save_path)\n",
    "#     img = imread(path)\n",
    "#     img = resize(img, (224, 224))\n",
    "#     save_name = f\"{save_path}/{img_name}\"\n",
    "#     if not exists(save_name):\n",
    "#         # print(f\"Saving {save_name}\")\n",
    "#         imwrite(f\"{save_path}/{img_name}\", img)"
   ]
  },
  {
   "cell_type": "code",
   "execution_count": null,
   "metadata": {},
   "outputs": [],
   "source": [
    "# # Save new_df\n",
    "# new_df.to_csv(\"../dataset/splits/data_entry_2017_test.csv\", index=False)"
   ]
  },
  {
   "cell_type": "code",
   "execution_count": null,
   "metadata": {},
   "outputs": [],
   "source": [
    "_, val_data = stratified_train_test_split(new_df)\n",
    "\n",
    "_ = plot_age_distribution(val_data, plot_title=\"Gender distribution by age (Train set)\")"
   ]
  },
  {
   "cell_type": "code",
   "execution_count": null,
   "metadata": {},
   "outputs": [],
   "source": [
    "# # Save new_df to csv\n",
    "# val_data.to_csv(\"../Data_entry_2017_filtered_single_label.csv\", index=False)"
   ]
  },
  {
   "cell_type": "code",
   "execution_count": null,
   "metadata": {},
   "outputs": [],
   "source": []
  },
  {
   "cell_type": "code",
   "execution_count": null,
   "metadata": {},
   "outputs": [],
   "source": [
    "data_df[\"Path\"]"
   ]
  },
  {
   "cell_type": "code",
   "execution_count": null,
   "metadata": {},
   "outputs": [],
   "source": [
    "def get_paths(df):\n",
    "    return df[\"Path\"].str.cat(df[\"Image Index\"], sep=\"/\")\n",
    "\n",
    "paths = get_paths(data_df)"
   ]
  },
  {
   "cell_type": "code",
   "execution_count": null,
   "metadata": {},
   "outputs": [],
   "source": [
    "# save_dir = \"../dataset/resized/\"\n",
    "\n",
    "# Resize all images to 224*224\n",
    "# for path in paths:\n",
    "for path in track(paths):\n",
    "    # save_path = path.replace(\"dataset/extracted\", \"dataset/resized\")\n",
    "    p = path.replace(\"dataset/extracted\", \"dataset/resized\").split(\"/\")\n",
    "    img_name = p[-1]\n",
    "    save_path = \"/\".join(p[:-1])\n",
    "    if not exists(save_path):\n",
    "        makedirs(save_path)\n",
    "    img = imread(path)\n",
    "    img = resize(img, (224, 224))\n",
    "    save_name = f\"{save_path}/{img_name}\"\n",
    "    if not exists(save_name):\n",
    "        print(f\"Saving {save_name}\")\n",
    "        # imwrite(f\"{save_path}/{img_name}\", img)"
   ]
  },
  {
   "cell_type": "code",
   "execution_count": null,
   "metadata": {},
   "outputs": [],
   "source": []
  },
  {
   "cell_type": "code",
   "execution_count": null,
   "metadata": {},
   "outputs": [],
   "source": []
  },
  {
   "cell_type": "code",
   "execution_count": 26,
   "metadata": {},
   "outputs": [
    {
     "name": "stderr",
     "output_type": "stream",
     "text": [
      "/home/irina/miniconda3/envs/viz_tools/lib/python3.11/site-packages/sklearn/model_selection/_split.py:994: UserWarning: The least populated class in y has only 1 members, which is less than n_splits=5.\n",
      "  warnings.warn(\n"
     ]
    }
   ],
   "source": [
    "train_df, val_df = stratified_train_test_split(data_df)"
   ]
  },
  {
   "cell_type": "code",
   "execution_count": null,
   "metadata": {},
   "outputs": [],
   "source": [
    "_ = plot_age_distribution(train_df, plot_title=\"Gender distribution by age (Train set)\")"
   ]
  },
  {
   "cell_type": "code",
   "execution_count": null,
   "metadata": {},
   "outputs": [],
   "source": [
    "_ = plot_age_distribution(val_df, plot_title=\"Gender distribution by age (Validation set)\")"
   ]
  },
  {
   "cell_type": "code",
   "execution_count": null,
   "metadata": {},
   "outputs": [],
   "source": [
    "plot_disease_distribution(train_df)"
   ]
  },
  {
   "cell_type": "code",
   "execution_count": null,
   "metadata": {},
   "outputs": [],
   "source": [
    "plot_disease_distribution(val_df)"
   ]
  },
  {
   "cell_type": "code",
   "execution_count": null,
   "metadata": {},
   "outputs": [],
   "source": [
    "# from typing import Tuple, Union\n",
    "\n",
    "# import numpy as np\n",
    "# import pandas as pd\n",
    "\n",
    "# def rd_fl_split(\n",
    "#     n_splits: int,\n",
    "#     df: pd.DataFrame,\n",
    "#     unbalanced: bool = False,\n",
    "#     extreme: bool = False,\n",
    "#     target_clients: Union[int, float] = 0,\n",
    "# ) -> Tuple[pd.DataFrame]:\n",
    "#     \"\"\"Split the dataset into n_splits clients using random assignment with optional extreme unbalancing and reassignment of excluded patients.\n",
    "\n",
    "#     Args:\n",
    "#     -----\n",
    "#         n_splits (int): Number of clients to split the data into.\n",
    "#         df (pd.DataFrame): DataFrame containing the data.\n",
    "#         unbalanced (bool): Whether to split the data into unbalanced clients.\n",
    "#         extreme (bool): Whether to apply extreme unbalancing.\n",
    "#         target_clients (Union[int, float]): Number or percentage (if float) of clients\n",
    "#                                              to be subjected to extreme unbalancing.\n",
    "\n",
    "#     Returns:\n",
    "#     --------\n",
    "#         Tuple[pd.DataFrame]: Tuple containing the DataFrames for each client.\n",
    "#     \"\"\"\n",
    "#     patients = df[\"Patient ID\"].unique()\n",
    "#     np.random.shuffle(patients)\n",
    "    \n",
    "#     assert target_clients < n_splits, \"Number of target clients cannot exceed the number of splits.\"\n",
    "#     assert target_clients > 0, \"Number of target clients must be greater than 0.\"\n",
    "#     assert n_splits < len(patients), \"Number of splits cannot exceed the number of unique patients.\"\n",
    "\n",
    "#     if unbalanced:\n",
    "#         random_points = np.sort(\n",
    "#             np.random.choice(range(1, len(patients)), n_splits - 1, replace=False)\n",
    "#         )\n",
    "#         split_sizes = np.diff([0] + random_points.tolist() + [len(patients)])\n",
    "#     else:\n",
    "#         base_size = len(patients) // n_splits\n",
    "#         split_sizes = np.array([base_size] * n_splits)\n",
    "#         remainder = len(patients) % n_splits\n",
    "#         if remainder > 0:\n",
    "#             indices = np.random.choice(range(n_splits), size=remainder, replace=False)\n",
    "#             split_sizes[indices] += 1\n",
    "\n",
    "#     split_points = np.cumsum(split_sizes)[:-1]\n",
    "#     clients = np.split(patients, split_points)\n",
    "#     print(clients)\n",
    "\n",
    "#     if extreme:\n",
    "#         # Determine the clients to apply extreme unbalancing to\n",
    "#         target_clients_count = target_clients\n",
    "#         if isinstance(target_clients, float):  # If it's a percentage\n",
    "#             target_clients_count = max(1, int(n_splits * target_clients))\n",
    "\n",
    "#         # Special case: Ensure all clients are included if there are only 2 clients\n",
    "#         if n_splits == 2:\n",
    "#             target_clients_count = n_splits\n",
    "\n",
    "#         target_clients_indices = (\n",
    "#             np.random.choice(range(n_splits), size=target_clients_count, replace=False)\n",
    "#             if target_clients_count > 0\n",
    "#             else []\n",
    "#         )\n",
    "\n",
    "#         unique_classes = df[\"Finding Labels\"].str.split(\"|\").explode().unique()\n",
    "#         unique_classes = unique_classes[unique_classes != \"No Finding\"]\n",
    "        \n",
    "#         to_swap = np.array_split(np.random.permutation(unique_classes), target_clients_count)\n",
    "\n",
    "#         # remaining_patients = {}\n",
    "#         patients_to_swap = {}\n",
    "#         for tc_idx in target_clients_indices:\n",
    "#             # print(f\"Excluding classes {to_swap[tc_idx]} from client {tc_idx}\")\n",
    "#             client_df = df[df[\"Patient ID\"].isin(clients[tc_idx])]\n",
    "#             # classes_to_exclude = to_swap.pop()\n",
    "#             classes_to_exclude = to_swap[tc_idx]\n",
    "#             excluded_patients = client_df[\n",
    "#                 client_df[\"Finding Labels\"].str.contains(\"|\".join(classes_to_exclude))\n",
    "#             ][\"Patient ID\"].unique()\n",
    "#             # clients[tc_idx] = np.setdiff1d(clients[tc_idx], excluded_patients)\n",
    "#             # remaining_patients = np.setdiff1d(patients, np.concatenate(clients))\n",
    "#             patients_to_swap[tc_idx] = excluded_patients\n",
    "#             clients[tc_idx] = np.setdiff1d(clients[tc_idx], excluded_patients)\n",
    "\n",
    "#         # Shift idx of to_swap to avoid reassigning the same patients\n",
    "#         clients = clients[::-1]\n",
    "#         for idx in target_clients_indices:\n",
    "#             clients[idx] = np.concatenate((clients[idx], patients_to_swap[idx]))\n",
    "\n",
    "#     client_dfs = [\n",
    "#         df[df[\"Patient ID\"].isin(client)].reset_index(drop=True) for client in clients\n",
    "#     ]\n",
    "\n",
    "#     return tuple(client_dfs)"
   ]
  },
  {
   "cell_type": "code",
   "execution_count": 28,
   "metadata": {},
   "outputs": [],
   "source": [
    "train_df = pd.read_csv(\"../dataset/splits/data_entry_2017_train.csv\")\n",
    "val_df = pd.read_csv(\"../dataset/splits/data_entry_2017_val.csv\")"
   ]
  },
  {
   "cell_type": "code",
   "execution_count": 89,
   "metadata": {},
   "outputs": [],
   "source": [
    "n_clients = 4\n",
    "unbalanced = True\n",
    "if unbalanced:\n",
    "    s_dir = \"unbalanced\"\n",
    "else:\n",
    "    s_dir = \"balanced\"\n",
    "\n",
    "fl_split_rd_train = random_fl_split(n_splits=n_clients, df=train_df, unbalanced=unbalanced, extreme=False, target_clients=0.5)\n",
    "fl_split_rd_val = random_fl_split(n_splits=n_clients, df=val_df, unbalanced=unbalanced, extreme=False, target_clients=0.5)"
   ]
  },
  {
   "cell_type": "code",
   "execution_count": 90,
   "metadata": {},
   "outputs": [
    {
     "data": {
      "image/png": "[encoded data removed]",
      "text/plain": [
       "<Figure size 1500x500 with 1 Axes>"
      ]
     },
     "metadata": {},
     "output_type": "display_data"
    }
   ],
   "source": [
    "plot_disease_distribution(fl_split_rd_train[0])"
   ]
  },
  {
   "cell_type": "code",
   "execution_count": 91,
   "metadata": {},
   "outputs": [
    {
     "data": {
      "image/png": "[encoded data removed]",
      "text/plain": [
       "<Figure size 1500x500 with 1 Axes>"
      ]
     },
     "metadata": {},
     "output_type": "display_data"
    }
   ],
   "source": [
    "plot_disease_distribution(fl_split_rd_train[1])"
   ]
  },
  {
   "cell_type": "code",
   "execution_count": 86,
   "metadata": {},
   "outputs": [],
   "source": [
    "# train_data.to_csv(\"../dataset/splits/data_entry_2017_train.csv\")\n",
    "save_dir = f\"../dataset/splits/fl_splits/{s_dir}/{n_clients}_clients/\"\n",
    "if not exists(save_dir):\n",
    "    makedirs(save_dir)\n",
    "\n",
    "for idx, fl in enumerate(fl_split_rd_train):\n",
    "    fl.to_csv(f\"{save_dir}/data_entry_2017_train_{idx}.csv\")\n",
    "\n",
    "for idx, fl in enumerate(fl_split_rd_val):\n",
    "    fl.to_csv(f\"{save_dir}//data_entry_2017_val_{idx}.csv\")"
   ]
  },
  {
   "cell_type": "code",
   "execution_count": null,
   "metadata": {},
   "outputs": [],
   "source": []
  },
  {
   "cell_type": "code",
   "execution_count": null,
   "metadata": {},
   "outputs": [],
   "source": [
    "from os import listdir\n",
    "\n",
    "import pandas as pd\n",
    "\n",
    "n_clients = 2\n",
    "\n",
    "split_dir = f\"../dataset/splits/fl_splits/{n_clients}_clients/\"\n",
    "\n",
    "for fl in listdir(split_dir):\n",
    "    print(fl)\n",
    "    df = pd.read_csv(split_dir + fl)\n",
    "    # Print the number of unique patients in each client\n",
    "    print(df[\"Image Index\"].nunique())"
   ]
  },
  {
   "cell_type": "code",
   "execution_count": null,
   "metadata": {},
   "outputs": [],
   "source": []
  },
  {
   "cell_type": "code",
   "execution_count": null,
   "metadata": {},
   "outputs": [],
   "source": [
    "new_df"
   ]
  },
  {
   "cell_type": "code",
   "execution_count": null,
   "metadata": {},
   "outputs": [],
   "source": [
    "original_csv = \"../Data_Entry_2017.csv\"\n",
    "\n",
    "original_df = pd.read_csv(original_csv)\n",
    "# Filter out the patients that are in new_df\n",
    "original_df = original_df[original_df[\"Image Index\"].isin(new_df[\"Image Index\"])]\n",
    "# Reset the index\n",
    "original_df = original_df.reset_index(drop=True)"
   ]
  },
  {
   "cell_type": "code",
   "execution_count": null,
   "metadata": {},
   "outputs": [],
   "source": [
    "# Compare the order of the patients in the original and new DataFrames\n",
    "original_df[\"Finding Labels\"].equals(new_df[\"Finding Labels\"])"
   ]
  },
  {
   "cell_type": "code",
   "execution_count": null,
   "metadata": {},
   "outputs": [],
   "source": [
    "original_df"
   ]
  },
  {
   "cell_type": "code",
   "execution_count": null,
   "metadata": {},
   "outputs": [],
   "source": []
  },
  {
   "cell_type": "code",
   "execution_count": null,
   "metadata": {},
   "outputs": [],
   "source": [
    "train_df_path = \"../dataset/splits/data_entry_2017_val.csv\"\n",
    "\n",
    "train_df = pd.read_csv(train_df_path)\n",
    "train_df"
   ]
  },
  {
   "cell_type": "code",
   "execution_count": null,
   "metadata": {},
   "outputs": [],
   "source": [
    "train_df[\"Finding Labels\"].value_counts()"
   ]
  },
  {
   "cell_type": "code",
   "execution_count": null,
   "metadata": {},
   "outputs": [],
   "source": [
    "# Pick 200 patients from the training set\n",
    "patients = train_df[\"Patient ID\"].unique()\n",
    "np.random.shuffle(patients)\n",
    "patients = patients[:]\n",
    "\n",
    "classes_to_keep = [\"No Finding\", \"Infiltration\", \"Atelectasis\", \"Effusion\", \"Nodule\"]\n",
    "classes_to_exclude = [cl for cl in train_df[\"Finding Labels\"].str.split(\"|\").explode().unique() if cl not in classes_to_keep]\n",
    "\n",
    "# Filter out the patients that are not in the selected patients\n",
    "sampled_train_df = train_df[train_df[\"Patient ID\"].isin(patients)]\n",
    "# Filter out the classes that are not in classes_to_keep\n",
    "sampled_train_df = sampled_train_df[sampled_train_df[\"Finding Labels\"].str.contains(\"|\".join(classes_to_keep))]\n",
    "# Drop the class columns\n",
    "sampled_train_df = sampled_train_df.drop(columns=classes_to_exclude)\n",
    "sampled_train_df = sampled_train_df.reset_index(drop=True)"
   ]
  },
  {
   "cell_type": "code",
   "execution_count": null,
   "metadata": {},
   "outputs": [],
   "source": [
    "sampled_train_df"
   ]
  },
  {
   "cell_type": "code",
   "execution_count": null,
   "metadata": {},
   "outputs": [],
   "source": [
    "sampled_train_df.to_csv(\"../dataset/splits/data_entry_2017_val_sampled.csv\", index=False)"
   ]
  }
 ],
 "metadata": {
  "kernelspec": {
   "display_name": "data_analyzer",
   "language": "python",
   "name": "python3"
  },
  "language_info": {
   "codemirror_mode": {
    "name": "ipython",
    "version": 3
   },
   "file_extension": ".py",
   "mimetype": "text/x-python",
   "name": "python",
   "nbconvert_exporter": "python",
   "pygments_lexer": "ipython3",
   "version": "3.9.18"
  }
 },
 "nbformat": 4,
 "nbformat_minor": 2
}
